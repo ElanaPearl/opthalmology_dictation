{
 "cells": [
  {
   "cell_type": "markdown",
   "metadata": {},
   "source": [
    "### Metrics Tutorial\n",
    "\n",
    "This notebook will show to use our tools to calculate a simple evaluation metric for automatic speech recognition (ASR) systems. "
   ]
  },
  {
   "cell_type": "code",
   "execution_count": 1,
   "metadata": {},
   "outputs": [],
   "source": [
    "import pandas as pd\n",
    "import numpy as np\n",
    "\n",
    "import jiwer\n",
    "from copy import deepcopy"
   ]
  },
  {
   "cell_type": "markdown",
   "metadata": {},
   "source": [
    "Let's take a look at our sample data. We have carefully contstructed these examples to showcase the different kinds of errors that can arise in ASR. The \"reference\" column indicates the ground truth sentences, that is, what the speaker was saying. The \"hypothesis\" column indicates a possible text translation performed by an ASR system. "
   ]
  },
  {
   "cell_type": "code",
   "execution_count": 2,
   "metadata": {},
   "outputs": [
    {
     "data": {
      "text/html": [
       "<div>\n",
       "<style scoped>\n",
       "    .dataframe tbody tr th:only-of-type {\n",
       "        vertical-align: middle;\n",
       "    }\n",
       "\n",
       "    .dataframe tbody tr th {\n",
       "        vertical-align: top;\n",
       "    }\n",
       "\n",
       "    .dataframe thead th {\n",
       "        text-align: right;\n",
       "    }\n",
       "</style>\n",
       "<table border=\"1\" class=\"dataframe\">\n",
       "  <thead>\n",
       "    <tr style=\"text-align: right;\">\n",
       "      <th></th>\n",
       "      <th>reference</th>\n",
       "      <th>hypothesis</th>\n",
       "    </tr>\n",
       "  </thead>\n",
       "  <tbody>\n",
       "    <tr>\n",
       "      <th>0</th>\n",
       "      <td>here is a sentence with a deletion</td>\n",
       "      <td>here is a sentence with a</td>\n",
       "    </tr>\n",
       "    <tr>\n",
       "      <th>1</th>\n",
       "      <td>here is a sentence with an insertion</td>\n",
       "      <td>here is a sentence with an an insertion</td>\n",
       "    </tr>\n",
       "    <tr>\n",
       "      <th>2</th>\n",
       "      <td>here is a sentence with a substitution</td>\n",
       "      <td>here is a sentence with a subsubtitution</td>\n",
       "    </tr>\n",
       "    <tr>\n",
       "      <th>3</th>\n",
       "      <td>here is a sentence with a mix of them all</td>\n",
       "      <td>here is an sentence with a mix of of them</td>\n",
       "    </tr>\n",
       "  </tbody>\n",
       "</table>\n",
       "</div>"
      ],
      "text/plain": [
       "                                   reference  \\\n",
       "0         here is a sentence with a deletion   \n",
       "1       here is a sentence with an insertion   \n",
       "2     here is a sentence with a substitution   \n",
       "3  here is a sentence with a mix of them all   \n",
       "\n",
       "                                  hypothesis  \n",
       "0                  here is a sentence with a  \n",
       "1    here is a sentence with an an insertion  \n",
       "2   here is a sentence with a subsubtitution  \n",
       "3  here is an sentence with a mix of of them  "
      ]
     },
     "execution_count": 2,
     "metadata": {},
     "output_type": "execute_result"
    }
   ],
   "source": [
    "data = pd.read_csv(\"example_data.csv\", index_col = 0)\n",
    "data"
   ]
  },
  {
   "cell_type": "markdown",
   "metadata": {},
   "source": [
    "A simple metric for evaluating ASR systems in the Word Error Rate (WER). The WER is calculated as\n",
    "\n",
    "$$\n",
    "    WER = \\frac{S + D + I}{N}\n",
    "$$\n",
    "\n",
    "Where $S$ indicates the number of substitutions, $D$ deletions, and $I$ insertions introduced by the ASR system, and $N$ is the total number of words in the reference text. \n",
    "\n",
    "We can quickly calculate the WER over each sentence in our dataset by calling the `calculate_metrics` function. By activating the `verbose` flag, we can visualize each substitutions, deletion, and insertion. This function will return a dataframe containing the WER for each sentence pair. "
   ]
  },
  {
   "cell_type": "code",
   "execution_count": 4,
   "metadata": {},
   "outputs": [],
   "source": [
    "from asr_metrics import calculate_metrics"
   ]
  },
  {
   "cell_type": "code",
   "execution_count": 6,
   "metadata": {},
   "outputs": [
    {
     "name": "stdout",
     "output_type": "stream",
     "text": [
      "sentence pair: 0\n",
      "REF: here is a sentence with a deletion\n",
      "HYP: here is a sentence with a ********\n",
      "                                      D\n",
      "\n",
      "SUB=0 DEL=1 INSERT=0, WER:0.143 \n",
      "\n",
      "sentence pair: 1\n",
      "REF: here is a sentence with an ** insertion\n",
      "HYP: here is a sentence with an an insertion\n",
      "                                 I          \n",
      "\n",
      "SUB=0 DEL=0 INSERT=1, WER:0.143 \n",
      "\n",
      "sentence pair: 2\n",
      "REF: here is a sentence with a   substitution\n",
      "HYP: here is a sentence with a subsubtitution\n",
      "                                            S\n",
      "\n",
      "SUB=1 DEL=0 INSERT=0, WER:0.143 \n",
      "\n",
      "sentence pair: 3\n",
      "REF: here is  a sentence with a mix of ** them all\n",
      "HYP: here is an sentence with a mix of of them ***\n",
      "              S                         I        D\n",
      "\n",
      "SUB=1 DEL=1 INSERT=1, WER:0.300 \n",
      "\n"
     ]
    }
   ],
   "source": [
    "results = calculate_metrics(data, verbose = True)"
   ]
  },
  {
   "cell_type": "code",
   "execution_count": 7,
   "metadata": {},
   "outputs": [
    {
     "data": {
      "text/html": [
       "<div>\n",
       "<style scoped>\n",
       "    .dataframe tbody tr th:only-of-type {\n",
       "        vertical-align: middle;\n",
       "    }\n",
       "\n",
       "    .dataframe tbody tr th {\n",
       "        vertical-align: top;\n",
       "    }\n",
       "\n",
       "    .dataframe thead th {\n",
       "        text-align: right;\n",
       "    }\n",
       "</style>\n",
       "<table border=\"1\" class=\"dataframe\">\n",
       "  <thead>\n",
       "    <tr style=\"text-align: right;\">\n",
       "      <th></th>\n",
       "      <th>reference</th>\n",
       "      <th>hypothesis</th>\n",
       "      <th>WER</th>\n",
       "    </tr>\n",
       "  </thead>\n",
       "  <tbody>\n",
       "    <tr>\n",
       "      <th>0</th>\n",
       "      <td>here is a sentence with a deletion</td>\n",
       "      <td>here is a sentence with a</td>\n",
       "      <td>0.142857</td>\n",
       "    </tr>\n",
       "    <tr>\n",
       "      <th>1</th>\n",
       "      <td>here is a sentence with an insertion</td>\n",
       "      <td>here is a sentence with an an insertion</td>\n",
       "      <td>0.142857</td>\n",
       "    </tr>\n",
       "    <tr>\n",
       "      <th>2</th>\n",
       "      <td>here is a sentence with a substitution</td>\n",
       "      <td>here is a sentence with a subsubtitution</td>\n",
       "      <td>0.142857</td>\n",
       "    </tr>\n",
       "    <tr>\n",
       "      <th>3</th>\n",
       "      <td>here is a sentence with a mix of them all</td>\n",
       "      <td>here is an sentence with a mix of of them</td>\n",
       "      <td>0.300000</td>\n",
       "    </tr>\n",
       "  </tbody>\n",
       "</table>\n",
       "</div>"
      ],
      "text/plain": [
       "                                   reference  \\\n",
       "0         here is a sentence with a deletion   \n",
       "1       here is a sentence with an insertion   \n",
       "2     here is a sentence with a substitution   \n",
       "3  here is a sentence with a mix of them all   \n",
       "\n",
       "                                  hypothesis       WER  \n",
       "0                  here is a sentence with a  0.142857  \n",
       "1    here is a sentence with an an insertion  0.142857  \n",
       "2   here is a sentence with a subsubtitution  0.142857  \n",
       "3  here is an sentence with a mix of of them  0.300000  "
      ]
     },
     "execution_count": 7,
     "metadata": {},
     "output_type": "execute_result"
    }
   ],
   "source": [
    "results"
   ]
  },
  {
   "cell_type": "markdown",
   "metadata": {},
   "source": [
    "We can also call this function from the command line. Two arguments are required `-input_file` and `-output_file`, which are the paths to the input and output files respectively, while the optional `--verbose` flag shows the calculation.   "
   ]
  },
  {
   "cell_type": "code",
   "execution_count": 16,
   "metadata": {},
   "outputs": [
    {
     "name": "stdout",
     "output_type": "stream",
     "text": [
      "sentence pair: 0\n",
      "REF: here is a sentence with a deletion\n",
      "HYP: here is a sentence with a ********\n",
      "                                      D\n",
      "\n",
      "SUB=0 DEL=1 INSERT=0, WER:0.143 \n",
      "\n",
      "sentence pair: 1\n",
      "REF: here is a sentence with an ** insertion\n",
      "HYP: here is a sentence with an an insertion\n",
      "                                 I          \n",
      "\n",
      "SUB=0 DEL=0 INSERT=1, WER:0.143 \n",
      "\n",
      "sentence pair: 2\n",
      "REF: here is a sentence with a   substitution\n",
      "HYP: here is a sentence with a subsubtitution\n",
      "                                            S\n",
      "\n",
      "SUB=1 DEL=0 INSERT=0, WER:0.143 \n",
      "\n",
      "sentence pair: 3\n",
      "REF: here is  a sentence with a mix of ** them all\n",
      "HYP: here is an sentence with a mix of of them ***\n",
      "              S                         I        D\n",
      "\n",
      "SUB=1 DEL=1 INSERT=1, WER:0.300 \n",
      "\n"
     ]
    }
   ],
   "source": [
    "%run asr_metrics.py -input_file example_data.csv -output_file example_output.csv --verbose True"
   ]
  },
  {
   "cell_type": "code",
   "execution_count": 17,
   "metadata": {},
   "outputs": [
    {
     "data": {
      "text/html": [
       "<div>\n",
       "<style scoped>\n",
       "    .dataframe tbody tr th:only-of-type {\n",
       "        vertical-align: middle;\n",
       "    }\n",
       "\n",
       "    .dataframe tbody tr th {\n",
       "        vertical-align: top;\n",
       "    }\n",
       "\n",
       "    .dataframe thead th {\n",
       "        text-align: right;\n",
       "    }\n",
       "</style>\n",
       "<table border=\"1\" class=\"dataframe\">\n",
       "  <thead>\n",
       "    <tr style=\"text-align: right;\">\n",
       "      <th></th>\n",
       "      <th>reference</th>\n",
       "      <th>hypothesis</th>\n",
       "      <th>WER</th>\n",
       "    </tr>\n",
       "  </thead>\n",
       "  <tbody>\n",
       "    <tr>\n",
       "      <th>0</th>\n",
       "      <td>here is a sentence with a deletion</td>\n",
       "      <td>here is a sentence with a</td>\n",
       "      <td>0.142857</td>\n",
       "    </tr>\n",
       "    <tr>\n",
       "      <th>1</th>\n",
       "      <td>here is a sentence with an insertion</td>\n",
       "      <td>here is a sentence with an an insertion</td>\n",
       "      <td>0.142857</td>\n",
       "    </tr>\n",
       "    <tr>\n",
       "      <th>2</th>\n",
       "      <td>here is a sentence with a substitution</td>\n",
       "      <td>here is a sentence with a subsubtitution</td>\n",
       "      <td>0.142857</td>\n",
       "    </tr>\n",
       "    <tr>\n",
       "      <th>3</th>\n",
       "      <td>here is a sentence with a mix of them all</td>\n",
       "      <td>here is an sentence with a mix of of them</td>\n",
       "      <td>0.300000</td>\n",
       "    </tr>\n",
       "  </tbody>\n",
       "</table>\n",
       "</div>"
      ],
      "text/plain": [
       "                                   reference  \\\n",
       "0         here is a sentence with a deletion   \n",
       "1       here is a sentence with an insertion   \n",
       "2     here is a sentence with a substitution   \n",
       "3  here is a sentence with a mix of them all   \n",
       "\n",
       "                                  hypothesis       WER  \n",
       "0                  here is a sentence with a  0.142857  \n",
       "1    here is a sentence with an an insertion  0.142857  \n",
       "2   here is a sentence with a subsubtitution  0.142857  \n",
       "3  here is an sentence with a mix of of them  0.300000  "
      ]
     },
     "execution_count": 17,
     "metadata": {},
     "output_type": "execute_result"
    }
   ],
   "source": [
    "results = pd.read_csv(\"example_output.csv\", index_col = 0)\n",
    "results"
   ]
  },
  {
   "cell_type": "code",
   "execution_count": null,
   "metadata": {},
   "outputs": [],
   "source": []
  }
 ],
 "metadata": {
  "kernelspec": {
   "display_name": "opthalmology_dictation",
   "language": "python",
   "name": "opthalmology_dictation"
  },
  "language_info": {
   "codemirror_mode": {
    "name": "ipython",
    "version": 3
   },
   "file_extension": ".py",
   "mimetype": "text/x-python",
   "name": "python",
   "nbconvert_exporter": "python",
   "pygments_lexer": "ipython3",
   "version": "3.12.1"
  }
 },
 "nbformat": 4,
 "nbformat_minor": 2
}
